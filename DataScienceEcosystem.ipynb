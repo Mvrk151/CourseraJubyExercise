{
 "cells": [
  {
   "cell_type": "markdown",
   "id": "32b96a73-eaa2-4eda-a193-dea36e1d9b43",
   "metadata": {},
   "source": [
    "# Data Science Tools and Ecosystem"
   ]
  },
  {
   "cell_type": "markdown",
   "id": "3e709d20-8fd8-41c4-8e20-b19b1f2b2243",
   "metadata": {},
   "source": [
    "In this notebook, Data Science Tools and Ecosystem are summarized."
   ]
  },
  {
   "cell_type": "markdown",
   "id": "9ef88990-f8cf-46ca-bf53-25e9b8f742b7",
   "metadata": {},
   "source": [
    "**Objectives:**\n",
    "\n",
    "- List popular languages for Data Science\n",
    "- Identify common development environments used in Data Science\n",
    "- Understand basic arithmetic operations in Python\n",
    "- Convert units of time (e.g., minutes to hours)\n",
    "- Demonstrate simple Python expressions and calculations\n"
   ]
  },
  {
   "cell_type": "markdown",
   "id": "7bd687a5-b494-4719-a08c-1af4e268fc7d",
   "metadata": {},
   "source": [
    "Some of the popular languages that Data Scientists use are:"
   ]
  },
  {
   "cell_type": "markdown",
   "id": "519c6867-e7ae-4edf-a875-8a75139252ea",
   "metadata": {},
   "source": [
    "1. Python\n",
    "2. R\n",
    "3. SQL"
   ]
  },
  {
   "cell_type": "markdown",
   "id": "292339ed-815b-4319-b807-89b8272f8562",
   "metadata": {},
   "source": [
    "Some of the commonly used libraries used by Data Scientists include:"
   ]
  },
  {
   "cell_type": "markdown",
   "id": "615c07d5-7ffd-4b7f-971a-ba58753262b4",
   "metadata": {},
   "source": [
    "1. Pandas\n",
    "2. NumPy\n",
    "3. Seaborn"
   ]
  },
  {
   "cell_type": "markdown",
   "id": "2f6411db-af19-4600-b2d3-f1a3123b33ec",
   "metadata": {},
   "source": [
    "| Data Science Tools |\n",
    "|--------------------|\n",
    "| Jupyter Notebook   |\n",
    "| RStudio            |\n",
    "| Visual Studio Code |\n"
   ]
  },
  {
   "cell_type": "markdown",
   "id": "27737cca-a16c-4acf-8056-e4eb8831298f",
   "metadata": {},
   "source": [
    "### Below are a few examples of evaluating arithmetic expressions in Python."
   ]
  },
  {
   "cell_type": "code",
   "execution_count": 14,
   "id": "63418d15-4a72-4d05-92e1-db5be3ade5e1",
   "metadata": {},
   "outputs": [
    {
     "data": {
      "text/plain": [
       "17"
      ]
     },
     "execution_count": 14,
     "metadata": {},
     "output_type": "execute_result"
    }
   ],
   "source": [
    "#This a simple arithmetic expression to mutiply then add integers\n",
    "(3*4)+5"
   ]
  },
  {
   "cell_type": "code",
   "execution_count": 16,
   "id": "83608a36-0d73-459d-81d8-1d347c8cc8e7",
   "metadata": {},
   "outputs": [
    {
     "data": {
      "text/plain": [
       "3.3333333333333335"
      ]
     },
     "execution_count": 16,
     "metadata": {},
     "output_type": "execute_result"
    }
   ],
   "source": [
    "# This will convert 200 minutes to hours by dividing by 60\n",
    "200/60"
   ]
  },
  {
   "cell_type": "markdown",
   "id": "753f1bd9-9a1b-403f-9e5a-1ccdb6340857",
   "metadata": {},
   "source": [
    "## Author\n",
    "Konstantinos Mavrikiou"
   ]
  },
  {
   "cell_type": "code",
   "execution_count": null,
   "id": "fd6f589b-3758-4eb2-8fc1-8663506a2c8b",
   "metadata": {},
   "outputs": [],
   "source": []
  }
 ],
 "metadata": {
  "kernelspec": {
   "display_name": "Python 3 (ipykernel)",
   "language": "python",
   "name": "python3"
  },
  "language_info": {
   "codemirror_mode": {
    "name": "ipython",
    "version": 3
   },
   "file_extension": ".py",
   "mimetype": "text/x-python",
   "name": "python",
   "nbconvert_exporter": "python",
   "pygments_lexer": "ipython3",
   "version": "3.12.3"
  }
 },
 "nbformat": 4,
 "nbformat_minor": 5
}
